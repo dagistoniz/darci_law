{
 "cells": [
  {
   "cell_type": "code",
   "execution_count": 84,
   "metadata": {},
   "outputs": [],
   "source": [
    "import sqlite3 as sq\n",
    "import numpy as np\n",
    "import random"
   ]
  },
  {
   "cell_type": "code",
   "execution_count": 85,
   "metadata": {},
   "outputs": [],
   "source": [
    "min_height = 7\n",
    "max_height = 25\n",
    "\n",
    "min_permeability = 0.1* 10**-12\n",
    "max_permeability = 25 * 10**-12\n",
    "\n",
    "min_viscosity = 1* 10**-3\n",
    "max_viscosity = 20* 10**-3\n",
    "\n",
    "delta_p = 2 * 10**6\n",
    "r_depres = 50\n",
    "r_well = 0.1\n",
    "\n",
    "size_array = 1000"
   ]
  },
  {
   "cell_type": "code",
   "execution_count": 86,
   "metadata": {},
   "outputs": [],
   "source": [
    "def calculate_rate (height, permeability, viscosity):\n",
    "    return (2 * np.pi * height * permeability * delta_p) * 3600 * 24/ (viscosity * np.log (r_depres/r_well))"
   ]
  },
  {
   "cell_type": "code",
   "execution_count": 87,
   "metadata": {},
   "outputs": [],
   "source": [
    "height_array = np.random.uniform (min_height, max_height, size_array)\n",
    "permeability_array = np.random.uniform (min_permeability, max_permeability, size_array)\n",
    "viscosity_array = np.random.uniform (min_viscosity, max_viscosity, size_array)"
   ]
  },
  {
   "cell_type": "code",
   "execution_count": 88,
   "metadata": {},
   "outputs": [],
   "source": [
    "def generate_array():\n",
    "    final = []\n",
    "    with sq.connect(\"darci_law_v2.db\") as con:\n",
    "        con.execute(\"\"\"CREATE TABLE IF NOT EXISTS darci_law_v2 (\n",
    "                         height REAL,\n",
    "                         permeability REAL,\n",
    "                         viscosity REAL,\n",
    "                         rate REAL\n",
    "        )\"\"\")\n",
    "        \n",
    "        for i in range(5000):\n",
    "            height = np.random.choice(height_array)\n",
    "            permeability = np.random.choice(permeability_array)\n",
    "            viscosity = np.random.choice(viscosity_array)\n",
    "            rate = calculate_rate(height, permeability, viscosity)\n",
    "            \n",
    "\n",
    "            final.append([height, permeability, viscosity, rate])\n",
    "            \n",
    "\n",
    "            con.execute(\"\"\"INSERT INTO darci_law_v2 (height, permeability, viscosity, rate) VALUES (?, ?, ?, ?)\"\"\", \n",
    "                         (height, permeability, viscosity, rate))\n",
    "\n",
    "    return final\n"
   ]
  },
  {
   "cell_type": "code",
   "execution_count": 89,
   "metadata": {},
   "outputs": [],
   "source": [
    "result = generate_array()"
   ]
  }
 ],
 "metadata": {
  "kernelspec": {
   "display_name": "Python 3",
   "language": "python",
   "name": "python3"
  },
  "language_info": {
   "codemirror_mode": {
    "name": "ipython",
    "version": 3
   },
   "file_extension": ".py",
   "mimetype": "text/x-python",
   "name": "python",
   "nbconvert_exporter": "python",
   "pygments_lexer": "ipython3",
   "version": "3.11.9"
  }
 },
 "nbformat": 4,
 "nbformat_minor": 2
}
